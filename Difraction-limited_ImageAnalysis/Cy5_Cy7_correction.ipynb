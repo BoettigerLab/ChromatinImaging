{
 "cells": [
  {
   "cell_type": "code",
   "execution_count": 1,
   "metadata": {
    "collapsed": true
   },
   "outputs": [],
   "source": [
    "#Imports\n",
    "import sys,glob,os\n",
    "import numpy as np\n",
    "import cPickle as pickle\n",
    "sys.path.append(r'C:\\Data\\Alistair\\code\\python-functions\\python-functions-library')\n",
    "import TadImagingAnalysis as tia\n",
    "import matplotlib.pylab as plt"
   ]
  },
  {
   "cell_type": "code",
   "execution_count": 210,
   "metadata": {
    "collapsed": true
   },
   "outputs": [],
   "source": [
    "master_folder = r'D:\\Bogdan\\HCT16_untreated_noAB-2col_6_29_2018'\n",
    "analysis_folder = master_folder+os.sep+r'Analysis2'"
   ]
  },
  {
   "cell_type": "code",
   "execution_count": 214,
   "metadata": {
    "collapsed": false
   },
   "outputs": [],
   "source": [
    "files = glob.glob(analysis_folder+os.sep+'*_cand.pkl')\n",
    "cy7ptsf,cy5ptsf=[],[]\n",
    "for fl in files[::-1]:\n",
    "    dic = pickle.load(open(fl,'rb'))\n",
    "\n",
    "    chroms = dic.keys()\n",
    "    chrom = chroms[0]\n",
    "    #cy5k,cy7k = 'H3R5','H43P5'\n",
    "    for cy5k,cy7k in [['H1R1','H1R2'],['H2R3','H2R4'],['H3R5','H3R6'],['H4R7','H4R8']]:\n",
    "    #cy5k,cy7k = 'H1R1','H1R2'\n",
    "\n",
    "        cy5pts,cy7pts = [],[]\n",
    "        for chrom in chroms:\n",
    "            dic_ = dic[chrom][0]\n",
    "            if dic_.has_key(cy5k):\n",
    "                cy5pts.extend(dic_[cy5k][:,1:4])\n",
    "            if dic_.has_key(cy7k):\n",
    "                cy7pts.extend(dic_[cy7k][:,1:4])\n",
    "        cy7pts = np.array(cy7pts)\n",
    "        cy5pts = np.array(cy5pts)\n",
    "\n",
    "        cutoff=2\n",
    "        M = cdist(cy5pts,cy7pts)\n",
    "        longdim = np.argmax(M.shape)\n",
    "        inds_sh = np.argmin(M,longdim)\n",
    "        dists_sh = np.min(M,longdim)\n",
    "        keep = dists_sh<cutoff\n",
    "        ind1,ind2 = inds_sh[keep],np.arange(len(inds_sh))[keep]\n",
    "        if longdim==1:\n",
    "            ind1,ind2 = ind2,ind1\n",
    "        cy5ptsf.extend(cy5pts[ind1])\n",
    "        cy7ptsf.extend(cy7pts[ind2])\n",
    "cy5ptsf = np.array(cy5ptsf)\n",
    "cy7ptsf = np.array(cy7ptsf)"
   ]
  },
  {
   "cell_type": "code",
   "execution_count": 215,
   "metadata": {
    "collapsed": false
   },
   "outputs": [],
   "source": [
    "cy5ptsf = np.array(cy5ptsf)\n",
    "cy7ptsf = np.array(cy7ptsf)\n",
    "dif = cy5ptsf-cy7ptsf\n",
    "x,y=median_vec(cy5ptsf[:,1],dif[:,1],res=10)\n",
    "plt.plot(x,y,'o',alpha=0.2)\n",
    "#plt.plot(dif[:,1])\n",
    "#plt.plot(dif[:,2])\n",
    "plt.show()"
   ]
  },
  {
   "cell_type": "code",
   "execution_count": 105,
   "metadata": {
    "collapsed": false
   },
   "outputs": [],
   "source": [
    "def median_vec(vecx,vecy,res=1,func=np.nanmedian):\n",
    "    edges = np.arange(min(vecx),max(vecx),res)\n",
    "    vecy_ = [func(vecy[(vecx>edges[i])&(vecx<=edges[i+1])]) for i in range(len(edges)-1)]\n",
    "    vecx_ = [func(vecx[(vecx>edges[i])&(vecx<=edges[i+1])]) for i in range(len(edges)-1)]\n",
    "    return vecx_,vecy_\n",
    "    "
   ]
  },
  {
   "cell_type": "code",
   "execution_count": 216,
   "metadata": {
    "collapsed": false
   },
   "outputs": [
    {
     "name": "stdout",
     "output_type": "stream",
     "text": [
      "[[0.025711432432609635, 0.00025512759143988401, 5.5686637638975243e-06, -0.00042340795417944021, -2.0436776461688556e-07, -1.5928705456769738e-08, 0.27953709196490806], [-0.00353052918100763, -0.00034442564277036681, -1.7870917577209923e-05, 6.3843139463714616e-05, 1.7033892711492658e-08, 2.3814093085910767e-08, -0.016009480066035722], [-0.016349292644475905, 6.5813576351769304e-05, -0.00048380735880232585, 0.00037854567020854658, -5.6600463991897216e-08, 1.4513584741887027e-07, 0.19207772922465599]]\n"
     ]
    }
   ],
   "source": [
    "def calc_color_matrix(x,y):\n",
    "    \"\"\"This gives a quadratic color transformation (in matrix form)\n",
    "    x is Nx3 vector of positions in the reference channel (typically cy5)\n",
    "    y is the Nx3 vector of positions in another channel (i.e. cy7)\n",
    "    return m_ a 3x7 matrix which when multipled with x,x**2,1 returns y-x\n",
    "    This m_ is indended to be used with apply_colorcor\n",
    "    \"\"\" \n",
    "    x_ = np.array(x)\n",
    "    y_ = np.array(y)-x_\n",
    "    A = np.concatenate([x_[:],x_[:]**2,np.ones([len(x_),1])],axis=-1)\n",
    "    m_ = [np.linalg.lstsq(A, y_[:,iy])[0] for iy in range(len(x_[0]))]\n",
    "    m_=np.array(m_)\n",
    "    return m_\n",
    "def apply_colorcor(x,m_):\n",
    "    \"\"\"This applies chromatic abberation correction to order 2\n",
    "    x is a Nx3 vector of positions\n",
    "    m_ is a matrix computed by function calc_color_matrix\n",
    "    y is the corrected vector in another channel\"\"\"\n",
    "    x_ = np.array(x)\n",
    "    A = np.concatenate([x_[:],x_[:]**2,np.ones([len(x_),1])],axis=-1)\n",
    "    diff = [np.dot(A,m) for m in m_]\n",
    "    return x_+np.array(diff).T\n",
    "m_ = calc_color_matrix(cy5ptsf,cy7ptsf)\n",
    "new_cy5ptsf = apply_colorcor(cy5ptsf,calc_color_matrix(cy5ptsf,cy7ptsf))\n",
    "print map(list,m_)"
   ]
  },
  {
   "cell_type": "code",
   "execution_count": 205,
   "metadata": {
    "collapsed": false
   },
   "outputs": [
    {
     "name": "stdout",
     "output_type": "stream",
     "text": [
      "[-168.79466563   38.29954531   28.57541054] [  6.35411606e-13  -3.37187071e-12  -5.78829572e-13]\n",
      "[ 81.44561702  49.52776173  48.73766511] [ 79.91033877  46.08492502  45.18598552]\n"
     ]
    }
   ],
   "source": [
    "print np.mean(cy5ptsf-cy7ptsf,0)*[250,150,150],np.mean(new_cy5ptsf-cy7ptsf,0)*[250,150,150]\n",
    "print np.std(cy5ptsf-cy7ptsf,0)*[250,150,150],np.std(new_cy5ptsf-cy7ptsf,0)*[250,150,150]"
   ]
  },
  {
   "cell_type": "code",
   "execution_count": 179,
   "metadata": {
    "collapsed": false
   },
   "outputs": [],
   "source": [
    "dims = [35,1000,1000]\n",
    "z_,x_,y_ = np.indices(dims)\n",
    "zxy = np.array(map(np.ravel,[z_,x_,y_])).T\n",
    "diffmat = [np.dot(np.concatenate([zxy[:],zxy[:]**2,np.ones([len(zxy),1])],axis=-1),m) for m in m_]\n",
    "diffmat = np.reshape(diffmat,[3]+dims)\n",
    "plt.imshow(diffmat[0,15],interpolation='nearest')\n",
    "plt.colorbar()\n",
    "plt.show()"
   ]
  },
  {
   "cell_type": "code",
   "execution_count": 181,
   "metadata": {
    "collapsed": true
   },
   "outputs": [],
   "source": [
    "plt.imshow(diffmat[2,15],interpolation='nearest')\n",
    "plt.colorbar()\n",
    "plt.show()"
   ]
  },
  {
   "cell_type": "code",
   "execution_count": 95,
   "metadata": {
    "collapsed": false
   },
   "outputs": [
    {
     "data": {
      "text/plain": [
       "array([-168.79466563,   38.29954531,   28.57541054])"
      ]
     },
     "execution_count": 95,
     "metadata": {},
     "output_type": "execute_result"
    }
   ],
   "source": [
    "np.mean(cy5ptsf-cy7ptsf,0)*[250,150,150]"
   ]
  },
  {
   "cell_type": "code",
   "execution_count": 84,
   "metadata": {
    "collapsed": false
   },
   "outputs": [
    {
     "data": {
      "text/plain": [
       "array([[-0.66238708,  0.69301646,  0.05749832],\n",
       "       [-0.29503979,  0.6043958 , -0.04318648],\n",
       "       [-0.08882304,  0.41995526, -0.15581835],\n",
       "       ..., \n",
       "       [-0.76357645,  0.14577748,  0.21598387],\n",
       "       [-0.88858803,  0.62521053,  0.25025893],\n",
       "       [-0.54191139,  0.23519723,  0.42502168]])"
      ]
     },
     "execution_count": 84,
     "metadata": {},
     "output_type": "execute_result"
    }
   ],
   "source": [
    "plt.plot("
   ]
  },
  {
   "cell_type": "code",
   "execution_count": 39,
   "metadata": {
    "collapsed": false
   },
   "outputs": [],
   "source": [
    "from scipy.spatial.distance import cdist\n",
    "plt.imshow(cdist(cy5pts,cy7pts)<3)\n",
    "plt.show()"
   ]
  },
  {
   "cell_type": "code",
   "execution_count": 59,
   "metadata": {
    "collapsed": false
   },
   "outputs": [],
   "source": [
    "plt.plot(cy5pts[ind1,0],cy5pts[ind1,2],'o')\n",
    "plt.plot(cy7pts[ind2,0],cy7pts[ind2,2],'o')\n",
    "plt.show()"
   ]
  },
  {
   "cell_type": "code",
   "execution_count": null,
   "metadata": {
    "collapsed": true
   },
   "outputs": [],
   "source": []
  }
 ],
 "metadata": {
  "kernelspec": {
   "display_name": "Python 2",
   "language": "python",
   "name": "python2"
  },
  "language_info": {
   "codemirror_mode": {
    "name": "ipython",
    "version": 2
   },
   "file_extension": ".py",
   "mimetype": "text/x-python",
   "name": "python",
   "nbconvert_exporter": "python",
   "pygments_lexer": "ipython2",
   "version": "2.7.11"
  }
 },
 "nbformat": 4,
 "nbformat_minor": 0
}
