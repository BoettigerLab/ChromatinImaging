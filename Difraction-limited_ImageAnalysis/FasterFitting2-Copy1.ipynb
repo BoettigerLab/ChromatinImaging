{
 "cells": [
  {
   "cell_type": "code",
   "execution_count": 1,
   "metadata": {
    "collapsed": false
   },
   "outputs": [],
   "source": [
    "#Imports\n",
    "import sys,glob,os\n",
    "import numpy as np\n",
    "import cPickle as pickle\n",
    "sys.path.append(r'C:\\Data\\Alistair\\code\\python-functions\\python-functions-library')\n",
    "import TadImagingAnalysis as tia\n",
    "import matplotlib.pylab as plt"
   ]
  },
  {
   "cell_type": "code",
   "execution_count": null,
   "metadata": {
    "collapsed": true
   },
   "outputs": [],
   "source": []
  },
  {
   "cell_type": "code",
   "execution_count": 2,
   "metadata": {
    "collapsed": false,
    "scrolled": true
   },
   "outputs": [
    {
     "data": {
      "text/plain": [
       "['D:\\\\Bogdan\\\\HCT16_6hauxin_noAB-2col_7_1_2018\\\\H1R1,R2',\n",
       " 'D:\\\\Bogdan\\\\HCT16_6hauxin_noAB-2col_7_1_2018\\\\H2R3,R4',\n",
       " 'D:\\\\Bogdan\\\\HCT16_6hauxin_noAB-2col_7_1_2018\\\\H3R5,R6',\n",
       " 'D:\\\\Bogdan\\\\HCT16_6hauxin_noAB-2col_7_1_2018\\\\H4R7,R8',\n",
       " 'D:\\\\Bogdan\\\\HCT16_6hauxin_noAB-2col_7_1_2018\\\\H5R9,R10',\n",
       " 'D:\\\\Bogdan\\\\HCT16_6hauxin_noAB-2col_7_1_2018\\\\H6R11,R12',\n",
       " 'D:\\\\Bogdan\\\\HCT16_6hauxin_noAB-2col_7_1_2018\\\\H7R13,R14',\n",
       " 'D:\\\\Bogdan\\\\HCT16_6hauxin_noAB-2col_7_1_2018\\\\H8R15,R16',\n",
       " 'D:\\\\Bogdan\\\\HCT16_6hauxin_noAB-2col_7_1_2018\\\\H9R17,R18',\n",
       " 'D:\\\\Bogdan\\\\HCT16_6hauxin_noAB-2col_7_1_2018\\\\H10R19,R20',\n",
       " 'D:\\\\Bogdan\\\\HCT16_6hauxin_noAB-2col_7_1_2018\\\\H11R21,R22',\n",
       " 'D:\\\\Bogdan\\\\HCT16_6hauxin_noAB-2col_7_1_2018\\\\H12R23,R24',\n",
       " 'D:\\\\Bogdan\\\\HCT16_6hauxin_noAB-2col_7_1_2018\\\\H13R25,R26',\n",
       " 'D:\\\\Bogdan\\\\HCT16_6hauxin_noAB-2col_7_1_2018\\\\H14R27,R28',\n",
       " 'D:\\\\Bogdan\\\\HCT16_6hauxin_noAB-2col_7_1_2018\\\\H15R29,R30',\n",
       " 'D:\\\\Bogdan\\\\HCT16_6hauxin_noAB-2col_7_1_2018\\\\H16R31,R32',\n",
       " 'D:\\\\Bogdan\\\\HCT16_6hauxin_noAB-2col_7_1_2018\\\\H17R33,R34',\n",
       " 'D:\\\\Bogdan\\\\HCT16_6hauxin_noAB-2col_7_1_2018\\\\H18R35,R36',\n",
       " 'D:\\\\Bogdan\\\\HCT16_6hauxin_noAB-2col_7_1_2018\\\\H19R37,R38',\n",
       " 'D:\\\\Bogdan\\\\HCT16_6hauxin_noAB-2col_7_1_2018\\\\H20R39,R40',\n",
       " 'D:\\\\Bogdan\\\\HCT16_6hauxin_noAB-2col_7_1_2018\\\\H21R41,R42',\n",
       " 'D:\\\\Bogdan\\\\HCT16_6hauxin_noAB-2col_7_1_2018\\\\H22R43,R44',\n",
       " 'D:\\\\Bogdan\\\\HCT16_6hauxin_noAB-2col_7_1_2018\\\\H23R45,R46',\n",
       " 'D:\\\\Bogdan\\\\HCT16_6hauxin_noAB-2col_7_1_2018\\\\H24R47,R48',\n",
       " 'D:\\\\Bogdan\\\\HCT16_6hauxin_noAB-2col_7_1_2018\\\\H25R49,R50',\n",
       " 'D:\\\\Bogdan\\\\HCT16_6hauxin_noAB-2col_7_1_2018\\\\H26R51,R52',\n",
       " 'D:\\\\Bogdan\\\\HCT16_6hauxin_noAB-2col_7_1_2018\\\\H27R53,R54',\n",
       " 'D:\\\\Bogdan\\\\HCT16_6hauxin_noAB-2col_7_1_2018\\\\H28R55,R56',\n",
       " 'D:\\\\Bogdan\\\\HCT16_6hauxin_noAB-2col_7_1_2018\\\\H29R57,R58',\n",
       " 'D:\\\\Bogdan\\\\HCT16_6hauxin_noAB-2col_7_1_2018\\\\H30R59,R60',\n",
       " 'D:\\\\Bogdan\\\\HCT16_6hauxin_noAB-2col_7_1_2018\\\\H31R61,R62',\n",
       " 'D:\\\\Bogdan\\\\HCT16_6hauxin_noAB-2col_7_1_2018\\\\H32R63,R64',\n",
       " 'D:\\\\Bogdan\\\\HCT16_6hauxin_noAB-2col_7_1_2018\\\\H33R65,R66',\n",
       " 'D:\\\\Bogdan\\\\HCT16_6hauxin_noAB-2col_7_1_2018\\\\H34R67,R68',\n",
       " 'D:\\\\Bogdan\\\\HCT16_6hauxin_noAB-2col_7_1_2018\\\\H35R69,R70',\n",
       " 'D:\\\\Bogdan\\\\HCT16_6hauxin_noAB-2col_7_1_2018\\\\H36R71,R72',\n",
       " 'D:\\\\Bogdan\\\\HCT16_6hauxin_noAB-2col_7_1_2018\\\\H37R73,R74',\n",
       " 'D:\\\\Bogdan\\\\HCT16_6hauxin_noAB-2col_7_1_2018\\\\H38R75,R76',\n",
       " 'D:\\\\Bogdan\\\\HCT16_6hauxin_noAB-2col_7_1_2018\\\\H39R77,R78']"
      ]
     },
     "execution_count": 2,
     "metadata": {},
     "output_type": "execute_result"
    }
   ],
   "source": [
    "#Get file paths\n",
    "\n",
    "master_folder = r'D:\\Bogdan\\HCT16_6hauxin_noAB-2col_7_1_2018'\n",
    "folders = [folder for folder in glob.glob(master_folder+os.sep+'*') \n",
    "           if ('R' in os.path.basename(folder) or 'P' in os.path.basename(folder) and 'H' in os.path.basename(folder))]\n",
    "#folders = [folder for folder in glob.glob(master_folder+os.sep+'*') \n",
    "#           if ('X' in os.path.basename(folder) or os.path.basename(folder) in['H1R9']) and os.path.isdir(folder)]\n",
    "def get_hybe(folder):\n",
    "    #this sorts by hybes.\n",
    "    try: return int(os.path.basename(folder).split('H')[-1].split('R')[0])\n",
    "    #try: return int(os.path.basename(folder).split('R')[-1])\n",
    "    except: return np.inf\n",
    "folders = np.array(folders)[np.argsort(map(get_hybe,folders))]\n",
    "fovs = map(os.path.basename,glob.glob(folders[0]+os.sep+'*.dax'))\n",
    "analysis_folder = master_folder+os.sep+r'Analysis'\n",
    "\n",
    "#Load positions of selected chroms\n",
    "dic = pickle.load(open(analysis_folder+os.sep+'Selected_Spot.pkl','r'))\n",
    "reload(tia)\n",
    "chr_pts = tia.partition_map(dic['coords'],dic['class_ids'])\n",
    "fov_ids = np.unique(dic['class_ids'])\n",
    "\n",
    "im_beads_repair = pickle.load(open(analysis_folder+os.sep+'im_beads_repair1.pkl','rb'))\n",
    "im_cy5_repair = pickle.load(open(analysis_folder+os.sep+'im_cy5_repair1.pkl','rb'))\n",
    "im_cy7_repair = pickle.load(open(analysis_folder+os.sep+'im_cy7_repair1.pkl','rb'))\n",
    "\n",
    "\n",
    "folders = [folder for folder in folders if os.path.exists(folder+os.sep+fovs[0])]\n",
    "folders"
   ]
  },
  {
   "cell_type": "code",
   "execution_count": 4,
   "metadata": {
    "collapsed": false
   },
   "outputs": [
    {
     "data": {
      "text/plain": [
       "[['H1R1', 'H1R2'],\n",
       " ['H2R3', 'H2R4'],\n",
       " ['H3R5', 'H3R6'],\n",
       " ['H4R7', 'H4R8'],\n",
       " ['H5R9', 'H5R10'],\n",
       " ['H6R11', 'H6R12'],\n",
       " ['H7R13', 'H7R14'],\n",
       " ['H8R15', 'H8R16'],\n",
       " ['H9R17', 'H9R18'],\n",
       " ['H10R19', 'H10R20'],\n",
       " ['H11R21', 'H11R22'],\n",
       " ['H12R23', 'H12R24'],\n",
       " ['H13R25', 'H13R26'],\n",
       " ['H14R27', 'H14R28'],\n",
       " ['H15R29', 'H15R30'],\n",
       " ['H16R31', 'H16R32'],\n",
       " ['H17R33', 'H17R34'],\n",
       " ['H18R35', 'H18R36'],\n",
       " ['H19R37', 'H19R38'],\n",
       " ['H20R39', 'H20R40'],\n",
       " ['H21R41', 'H21R42'],\n",
       " ['H22R43', 'H22R44'],\n",
       " ['H23R45', 'H23R46'],\n",
       " ['H24R47', 'H24R48'],\n",
       " ['H25R49', 'H25R50'],\n",
       " ['H26R51', 'H26R52'],\n",
       " ['H27R53', 'H27R54'],\n",
       " ['H28R55', 'H28R56'],\n",
       " ['H29R57', 'H29R58'],\n",
       " ['H30R59', 'H30R60'],\n",
       " ['H31R61', 'H31R62'],\n",
       " ['H32R63', 'H32R64'],\n",
       " ['H33R65', 'H33R66'],\n",
       " ['H34R67', 'H34R68'],\n",
       " ['H35R69', 'H35R70'],\n",
       " ['H36R71', 'H36R72'],\n",
       " ['H37R73', 'H37R74'],\n",
       " ['H38R75', 'H38R76'],\n",
       " ['H39R77', 'H39R78']]"
      ]
     },
     "execution_count": 4,
     "metadata": {},
     "output_type": "execute_result"
    }
   ],
   "source": [
    "#def to_2tags(tag,single_dic={'P41':'cy5','P6':'cy7'},inverted=['R49','R53','R54']):\n",
    "def to_2tags(tag,single_dic={'P1':'cy7','R83':'cy5'},inverted=[]):\n",
    "    hybe = tag.split('R')[0].split('P')[0]\n",
    "    rest = tag[len(hybe):]\n",
    "    cols = ['cy5','cy7']\n",
    "    for stag in single_dic.keys():\n",
    "        if stag==rest:\n",
    "            icol = cols.index(single_dic[stag])*2-1\n",
    "            return [tag+'_blank',tag][::icol]\n",
    "    icol = 1\n",
    "    for tg in inverted:\n",
    "        if tg in tag:\n",
    "            icol=-1\n",
    "    tags2 = [hybe+rst for rst in rest.split(',')]\n",
    "    return tags2[::icol]\n",
    "map(to_2tags,map(os.path.basename,folders))"
   ]
  },
  {
   "cell_type": "code",
   "execution_count": 5,
   "metadata": {
    "collapsed": false,
    "scrolled": true
   },
   "outputs": [
    {
     "name": "stdout",
     "output_type": "stream",
     "text": [
      "D:\\Bogdan\\HCT16_6hauxin_noAB-2col_7_1_2018\\AnalysisTemp\\Conv_zscan_00__current_cand.pkl\n",
      "['H1R1,R2', 'H2R3,R4', 'H3R5,R6', 'H4R7,R8', 'H5R9,R10', 'H6R11,R12', 'H7R13,R14', 'H8R15,R16', 'H9R17,R18', 'H10R19,R20', 'H11R21,R22', 'H12R23,R24', 'H13R25,R26', 'H14R27,R28', 'H15R29,R30', 'H16R31,R32', 'H17R33,R34', 'H18R35,R36', 'H19R37,R38', 'H20R39,R40', 'H21R41,R42', 'H22R43,R44', 'H23R45,R46', 'H24R47,R48', 'H25R49,R50', 'H26R51,R52', 'H27R53,R54', 'H28R55,R56', 'H29R57,R58', 'H30R59,R60', 'H31R61,R62', 'H32R63,R64', 'H33R65,R66', 'H34R67,R68', 'H35R69,R70', 'H36R71,R72', 'H37R73,R74', 'H38R75,R76', 'H39R77,R78']\n"
     ]
    },
    {
     "name": "stderr",
     "output_type": "stream",
     "text": [
      "C:\\Users\\Storm6\\Anaconda2\\lib\\site-packages\\scipy\\optimize\\minpack.py:427: RuntimeWarning: Number of calls to function has reached maxfev = 1200.\n",
      "  warnings.warn(errors[info][0], RuntimeWarning)\n"
     ]
    },
    {
     "name": "stdout",
     "output_type": "stream",
     "text": [
      "Aligning 0\n",
      "[ -3.13013163  19.71102063 -14.76443644] [ -2.60339537  19.60885652 -14.62391904] 44 25\n",
      "Suspecting failure.\n",
      "[array([ -3.12730923,  19.72263036, -14.67888723]), array([ -3.13013163,  19.71102063, -14.76443644])]\n",
      "Aligning 1\n",
      "[ -4.43743549  17.89289934 -13.48905109] [ -4.57042094  17.73899595 -13.55854466] 42 29\n",
      "Aligning 2\n",
      "[ -2.0513969   18.46547823 -11.6965114 ] [ -1.87337556  18.3637279  -11.68663338] 45 43\n",
      "Aligning 3\n",
      "[ -4.58583636  15.78412907 -10.45076443] [ -4.692263    15.73248136 -10.51002344] 48 34\n",
      "Aligning 4\n",
      "[ -4.58068958  14.62004985  -9.7492243 ] [ -4.75526153  14.4733473   -9.69158944] 54 36\n",
      "Aligning 5\n",
      "[ -4.64831969  11.54851678  -8.47737627] [ -4.774947    11.47383792  -8.49604404] 55 40\n",
      "Aligning 6\n",
      "[ -4.70940187  12.30859497  -7.54379329] [ -4.90365022  12.2676696   -7.48290187] 57 33\n",
      "Aligning 7\n",
      "[ -4.74227322  11.30731404  -6.81766083] [ -4.91759801  11.224788    -6.77235808] 59 39\n",
      "Aligning 8\n",
      "[ -4.76749076  10.46515925  -6.34405651] [ -4.77951667  10.44693432  -6.33971425] 60 40\n",
      "Aligning 9\n",
      "[ -4.39801058  11.22259705  -5.69721452] [ -4.35719054  11.11729935  -5.64124974] 60 42\n",
      "Aligning 10\n",
      "[-4.58007981  9.10683606 -4.71878145] [-4.52038155  9.1023976  -4.63328974] 59 52\n",
      "Aligning 11\n",
      "[-4.46489056  8.42678743 -4.81323494] [-4.46006623  8.36696756 -4.7870342 ] 62 44\n",
      "Aligning 12\n",
      "[-2.98050656  8.1031383  -4.3053527 ] [-2.87266739  8.06657458 -4.26852815] 62 58\n",
      "Aligning 13\n",
      "[-1.56087362  7.28576966 -3.37237366] [-1.52147435  7.28635189 -3.31924838] 60 60\n",
      "Aligning 14\n",
      "[-3.35566045  6.68904955 -2.89679991] [-3.3103097   6.65921017 -2.87142381] 67 59\n",
      "Aligning 15\n",
      "[ 2.45441777  8.24501101 -2.68640571] [ 2.47032188  8.27504765 -2.58593976] 65 57\n",
      "Aligning 16\n",
      "[-4.4799059   6.23417842 -2.2309715 ] [-4.54971652  6.12109351 -1.93007309] 70 52\n",
      "Aligning 17\n",
      "[ 0.09640177  6.4679759  -1.79007236] [ 0.15928404  6.5055045  -1.78590628] 65 63\n",
      "Aligning 18\n",
      "[-1.57027827  6.20423912 -1.49626377] [-1.62927094  6.16548181 -1.51528076] 60 66\n",
      "Aligning 19\n",
      "[ 0.  0.  0.] [ 0.  0.  0.] 100 100\n",
      "Aligning 20\n",
      "[ 0.3883864   0.95031545  0.60991255] [ 0.27252571  1.06073208  0.55839105] 82 78\n",
      "Aligning 21\n",
      "[ 4.87283158  0.40778675  1.0050604 ] [ 4.7265833   0.47193547  0.91523905] 84 71\n",
      "Aligning 22\n",
      "[-3.74310692  0.27464792  1.04867195] [-3.6043422   0.27973265  1.06328373] 79 72\n",
      "Aligning 23\n",
      "[ 1.13988326  0.17453058  1.12452192] [ 1.11422893  0.26794909  1.03569495] 79 73\n",
      "Aligning 24\n",
      "[-4.75741872  0.61324343  2.18654488] [-4.73075163  0.672569    2.12350544] 82 55\n",
      "Aligning 25\n",
      "[-4.69918715  0.3974225   2.48746685] [-4.6795389   0.39887044  2.42190521] 70 58\n",
      "Aligning 26\n",
      "[ 4.23499708  0.75111751  2.24661976] [ 4.1807953   0.81107108  2.13667594] 78 68\n",
      "Aligning 27\n",
      "[ 0.07384001 -0.53507706  2.22051501] [ 0.08037505 -0.44060264  2.1606511 ] 74 70\n",
      "Aligning 28\n",
      "[-4.62946416  0.11615042  2.51705403] [-4.65896227  0.06087471  2.38469993] 63 56\n",
      "Aligning 29\n",
      "[-4.64868255 -0.12618138  2.50625744] [-4.63220031 -0.12445826  2.47360416] 73 57\n",
      "Aligning 30\n",
      "[-4.30566604 -0.09833127  2.61288864] [-4.35944331 -0.0816916   2.58135975] 74 53\n",
      "Aligning 31\n",
      "[-4.10856515 -0.07802774  2.11724001] [-4.1231423  -0.03428697  2.09000324] 73 63\n",
      "Aligning 32\n",
      "[-4.7442875  -0.44522343  2.47026525] [-4.63191851 -0.44007777  2.47022515] 73 58\n",
      "Aligning 33\n",
      "[-4.53199553 -0.14902822  2.60499736] [-4.64017114 -0.1149089   2.50096733] 65 54\n",
      "Aligning 34\n",
      "[-4.48527329 -0.71101998  2.39376516] [-4.63445819 -0.73575096  2.37387178] 65 55\n",
      "Aligning 35\n",
      "[-4.6102912  -0.36917613  2.1592897 ] [-4.52721634 -0.32702464  2.18403443] 73 49\n",
      "Aligning 36\n",
      "[-4.58814716  0.62414093  2.91959784] [-4.52248022  0.63800885  2.84979887] 72 54\n",
      "Aligning 37\n",
      "[-4.58230911 -0.22674053  2.65485901] [-4.57300123 -0.2202137   2.62482854] 69 51\n",
      "Aligning 38\n",
      "[-4.71966089 -4.9486468   1.90829108] [-4.65274975 -4.97408048  1.88185237] 62 58\n",
      "['H1R1', 'H1R2']\n",
      "['H2R3', 'H2R4']\n",
      "['H3R5', 'H3R6']\n",
      "['H4R7', 'H4R8']\n",
      "['H5R9', 'H5R10']\n",
      "['H6R11', 'H6R12']\n",
      "['H7R13', 'H7R14']\n",
      "['H8R15', 'H8R16']\n",
      "['H9R17', 'H9R18']\n",
      "['H10R19', 'H10R20']\n",
      "['H11R21', 'H11R22']\n",
      "['H12R23', 'H12R24']\n",
      "['H13R25', 'H13R26']\n",
      "['H14R27', 'H14R28']\n",
      "['H15R29', 'H15R30']\n",
      "['H16R31', 'H16R32']\n",
      "['H17R33', 'H17R34']\n",
      "['H18R35', 'H18R36']\n",
      "['H19R37', 'H19R38']\n",
      "['H20R39', 'H20R40']\n",
      "['H21R41', 'H21R42']\n",
      "['H22R43', 'H22R44']\n",
      "['H23R45', 'H23R46']\n",
      "['H24R47', 'H24R48']\n",
      "['H25R49', 'H25R50']\n",
      "['H26R51', 'H26R52']\n",
      "['H27R53', 'H27R54']\n",
      "['H28R55', 'H28R56']\n",
      "['H29R57', 'H29R58']\n",
      "['H30R59', 'H30R60']\n",
      "['H31R61', 'H31R62']\n",
      "['H32R63', 'H32R64']\n",
      "['H33R65', 'H33R66']\n",
      "['H34R67', 'H34R68']\n",
      "['H35R69', 'H35R70']\n",
      "['H36R71', 'H36R72']\n",
      "['H37R73', 'H37R74']\n",
      "['H38R75', 'H38R76']\n",
      "['H39R77', 'H39R78']\n",
      "D:\\Bogdan\\HCT16_6hauxin_noAB-2col_7_1_2018\\AnalysisTemp\\Conv_zscan_02__current_cand.pkl\n",
      "['H1R1,R2', 'H2R3,R4', 'H3R5,R6', 'H4R7,R8', 'H5R9,R10', 'H6R11,R12', 'H7R13,R14', 'H8R15,R16', 'H9R17,R18', 'H10R19,R20', 'H11R21,R22', 'H12R23,R24', 'H13R25,R26', 'H14R27,R28', 'H15R29,R30', 'H16R31,R32', 'H17R33,R34', 'H18R35,R36', 'H19R37,R38', 'H20R39,R40', 'H21R41,R42', 'H22R43,R44', 'H23R45,R46', 'H24R47,R48', 'H25R49,R50', 'H26R51,R52', 'H27R53,R54', 'H28R55,R56', 'H29R57,R58', 'H30R59,R60', 'H31R61,R62', 'H32R63,R64', 'H33R65,R66', 'H34R67,R68', 'H35R69,R70', 'H36R71,R72', 'H37R73,R74', 'H38R75,R76', 'H39R77,R78']\n",
      "Aligning 0\n",
      "[ -0.46717036  20.95463699 -12.36088685] [  0.02359839  17.79823643 -14.51422197] 5 38\n",
      "Suspecting failure.\n",
      "[array([ -0.46717036,  20.95463699, -12.36088685]), array([  0.02359839,  17.79823643, -14.51422197])]\n",
      "Aligning 1\n",
      "[ -0.64815491  36.10187223 -34.62683277] [  1.21055127e-02   1.59210884e+01  -1.33720720e+01] 3 39\n",
      "Suspecting failure.\n",
      "[array([ -0.64815491,  36.10187223, -34.62683277]), array([  1.21055127e-02,   1.59210884e+01,  -1.33720720e+01])]\n",
      "Aligning 2\n",
      "[ -0.72138356  20.85392856  -9.05801333] [  0.04271864  13.68060614 -12.03559978] 4 42\n",
      "Suspecting failure.\n",
      "[array([ -0.72138356,  20.85392856,  -9.05801333]), array([  0.04271864,  13.68060614, -12.03559978])]\n",
      "Aligning 3\n",
      "[  2.30357630e-02   4.53101266e+01   1.26545793e+00] [  0.02550852  13.40162379 -10.23367398] 3 45\n",
      "Suspecting failure.\n",
      "[array([  2.30357630e-02,   4.53101266e+01,   1.26545793e+00]), array([  0.02550852,  13.40162379, -10.23367398])]\n",
      "Aligning 4\n",
      "[ -0.28723808   8.91288925 -26.51717664] [ -0.04365562  11.85794795  -9.43782741] 7 47\n",
      "Suspecting failure.\n",
      "[array([ -0.28723808,   8.91288925, -26.51717664]), array([ -0.04365562,  11.85794795,  -9.43782741])]\n",
      "Aligning 5\n",
      "[ -0.68172671  19.68569437 -42.13809423] [ -0.10056889  11.06921234  -8.78121022] 3 44\n",
      "Suspecting failure.\n",
      "[array([ -0.68172671,  19.68569437, -42.13809423]), array([ -0.10056889,  11.06921234,  -8.78121022])]\n",
      "Aligning 6\n",
      "[ -0.35340095  25.66786217 -22.41807973] [ -0.04091471  10.33867899  -7.15494179] 3 51\n",
      "Suspecting failure.\n",
      "[array([ -0.35340095,  25.66786217, -22.41807973]), array([ -0.04091471,  10.33867899,  -7.15494179])]\n",
      "Aligning 7\n",
      "[  2.55547518e-02   4.23963567e+01  -1.24321495e+01] [-0.10779036  9.23405287 -6.61424437] 3 45\n",
      "Suspecting failure.\n",
      "[array([  2.55547518e-02,   4.23963567e+01,  -1.24321495e+01]), array([-0.10779036,  9.23405287, -6.61424437])]\n",
      "Aligning 8\n",
      "[-0.37400847  9.09478401 -6.27382423] [-0.0556808   8.77560032 -6.72562083] 16 50\n",
      "Suspecting failure.\n",
      "[array([-0.37400847,  9.09478401, -6.27382423]), array([-0.0556808 ,  8.77560032, -6.72562083])]\n",
      "Aligning 9\n",
      "[ -0.0479532   19.90529393 -17.78585801] [ 0.624787    9.70334371 -4.88842838] 4 44\n",
      "Suspecting failure.\n",
      "[array([ -0.0479532 ,  19.90529393, -17.78585801]), array([ 0.624787  ,  9.70334371, -4.88842838])]\n",
      "Aligning 10\n",
      "[-0.12665948  8.58251128 -5.63203535] [-0.08910301  8.66153092 -5.68052398] 13 47\n",
      "Aligning 11\n",
      "[-0.39372945  2.00422554 -0.63616344] [-0.10425702  8.32391277 -4.8203021 ] 6 45\n",
      "Suspecting failure.\n",
      "[array([-0.39372945,  2.00422554, -0.63616344]), array([-0.10425702,  8.32391277, -4.8203021 ])]\n",
      "Aligning 12\n",
      "[ -0.60585768  23.16079487 -19.28041098] [-0.07064169  6.95205531 -4.39778624] 4 47\n",
      "Suspecting failure.\n",
      "[array([ -0.60585768,  23.16079487, -19.28041098]), array([-0.07064169,  6.95205531, -4.39778624])]\n",
      "Aligning 13\n",
      "[  0.5732573   42.27974694 -11.7362506 ] [-0.07520346  7.28791505 -3.56031989] 3 51\n",
      "Suspecting failure.\n",
      "[array([ 23.32976361,  14.37285209,   8.5935286 ]), array([-0.07520346,  7.28791505, -3.56031989])]\n",
      "Aligning 14\n",
      "[-0.34766068  6.26187836 -2.54898538] [ 0.01006556  6.11158717 -2.86767352] 11 53\n",
      "Aligning 15\n",
      "[-0.37478271  6.58298991 -2.89526428] [ -5.39824902e-04   6.47360993e+00  -3.22382787e+00] 16 54\n",
      "Aligning 16\n",
      "[ 0.07284836  4.73489285 -1.32101258] [-0.01661664  4.61104144 -1.97470889] 9 52\n",
      "Suspecting failure.\n",
      "[array([ 0.07284836,  4.73489285, -1.32101258]), array([-0.01661664,  4.61104144, -1.97470889])]\n",
      "Aligning 17\n",
      "[-0.32005322  6.67383613 -1.87929056] [-0.01863782  6.29975052 -2.23260119] 15 51\n",
      "Aligning 18\n",
      "[-0.04902758  5.15642253 -1.23099473] [-0.00936156  5.06695382 -1.31907137] 15 56\n",
      "Aligning 19\n",
      "[ 0.  0.  0.] [ 0.  0.  0.] 36 99\n",
      "Aligning 20\n",
      "[-0.06314728 -0.15066129  0.98271553] [ 0.00839301 -0.02157661  0.95531609] 18 64\n",
      "Aligning 21\n",
      "[-0.23910893 -0.15498274  0.40993078] [ 0.02564862 -0.23852235  0.45206157] 18 61\n",
      "Aligning 22\n",
      "[  0.60832602   4.22696256 -38.43350897] [ 0.08071496 -1.14455558  1.0611856 ] 4 57\n",
      "Suspecting failure.\n",
      "[array([  0.60832602,   4.22696256, -38.43350897]), array([ 0.08071496, -1.14455558,  1.0611856 ])]\n",
      "Aligning 23\n",
      "[ 0.05394966 -0.31365513  1.56778412] [-0.01700822 -0.35811734  1.4163317 ] 16 63\n",
      "Aligning 24\n",
      "[-0.23257873  0.09143037  1.89979336] [-0.11227881 -0.07358591  1.82042199] 19 61\n",
      "Aligning 25\n",
      "[-0.08350502 -0.52231952  1.73385944] [-0.06511227 -0.33775563  1.64323575] 15 61\n",
      "Aligning 26\n",
      "[-0.08537516 -0.39655892  2.26754048] [-0.04050078 -0.59155348  2.1684292 ] 11 55\n",
      "Aligning 27\n",
      "[ 29.88013476  27.05344233 -38.08017363] [-0.01048346 -0.14815101  1.68508749] 3 58\n",
      "Suspecting failure.\n",
      "[array([ 3.9478848 , -9.43729514,  7.8021927 ]), array([-0.01048346, -0.14815101,  1.68508749])]\n",
      "Aligning 28\n",
      "[ -0.0831532   23.56059229   2.32493349] [-0.03335793 -0.28503425  1.96367798] 3 57\n",
      "Suspecting failure.\n",
      "[array([ -0.0831532 ,  23.56059229,   2.32493349]), array([-0.03335793, -0.28503425,  1.96367798])]\n",
      "Aligning 29\n",
      "[  0.12941851  32.60307276  -3.69406879] [-0.04792176 -0.18152665  2.65736887] 3 54\n",
      "Suspecting failure.\n",
      "[array([-0.11629045, -0.78451154,  2.56897519]), array([-0.04792176, -0.18152665,  2.65736887])]\n",
      "Aligning 30\n",
      "[-0.2071531   0.76459358  0.85700266] [ 0.09825334  0.54931473  1.9580248 ] 13 50\n",
      "Suspecting failure.\n",
      "[array([-0.2071531 ,  0.76459358,  0.85700266]), array([ 0.09825334,  0.54931473,  1.9580248 ])]\n",
      "Aligning 31\n",
      "[-0.30930216 -0.43088655  1.71878135] [-0.01716224 -0.41767496  1.95497756] 12 50\n",
      "Aligning 32\n",
      "[ 29.92253451  26.64318058 -37.31458968] [-0.02533844  0.00759951  2.84712067] 3 55\n",
      "Suspecting failure.\n",
      "[array([ -0.23503696, -19.12707253, -18.34387414]), array([-0.02533844,  0.00759951,  2.84712067])]\n",
      "Aligning 33\n",
      "[-0.28375763 -0.33536476  2.89658796] [ 0.00818105 -0.44830592  2.87651186] 9 48\n",
      "Aligning 34\n",
      "[-0.31267498 -1.50187999  2.0436763 ] [-0.01620495 -1.32950482  2.3067965 ] 12 55\n",
      "Aligning 35\n",
      "[ 22.91902209  27.06354649 -29.75544816] [ 0.01934405 -0.83473738  2.44260282] 3 51\n",
      "Suspecting failure.\n",
      "[array([-0.25713787, -1.25287885,  2.24717743]), array([ 0.01934405, -0.83473738,  2.44260282])]\n",
      "Aligning 36\n",
      "[-0.41329437 -1.18516795  3.40404459] [-0.09710771 -1.37370522  3.29454988] 10 51\n",
      "Aligning 37\n",
      "[ 23.14198896   4.26493487 -23.98822605] [-0.04301996 -1.33228758  3.35738393] 3 43\n",
      "Suspecting failure.\n",
      "[array([ 23.14198896,   4.26493487, -23.98822605]), array([-0.04301996, -1.33228758,  3.35738393])]\n",
      "Aligning 38\n",
      "[ 25.55614237   4.54406313  -9.38989063] [ 0.0826111  -6.26980369  2.44241574] 3 36\n",
      "Suspecting failure.\n",
      "[array([  9.97319838, -34.80238745,   8.79371202]), array([ 0.0826111 , -6.26980369,  2.44241574])]\n",
      "['H1R1', 'H1R2']\n",
      "['H2R3', 'H2R4']\n",
      "['H3R5', 'H3R6']\n",
      "['H4R7', 'H4R8']\n",
      "['H5R9', 'H5R10']\n",
      "['H6R11', 'H6R12']\n",
      "['H7R13', 'H7R14']\n",
      "['H8R15', 'H8R16']\n",
      "['H9R17', 'H9R18']\n",
      "['H10R19', 'H10R20']\n",
      "['H11R21', 'H11R22']\n",
      "['H12R23', 'H12R24']\n",
      "['H13R25', 'H13R26']\n",
      "['H14R27', 'H14R28']\n",
      "['H15R29', 'H15R30']\n",
      "['H16R31', 'H16R32']\n",
      "['H17R33', 'H17R34']\n",
      "['H18R35', 'H18R36']\n",
      "['H19R37', 'H19R38']\n",
      "['H20R39', 'H20R40']\n",
      "['H21R41', 'H21R42']\n",
      "['H22R43', 'H22R44']\n",
      "['H23R45', 'H23R46']\n",
      "['H24R47', 'H24R48']\n",
      "['H25R49', 'H25R50']\n",
      "['H26R51', 'H26R52']\n",
      "['H27R53', 'H27R54']\n",
      "['H28R55', 'H28R56']\n",
      "['H29R57', 'H29R58']\n",
      "['H30R59', 'H30R60']\n",
      "['H31R61', 'H31R62']\n",
      "['H32R63', 'H32R64']\n",
      "['H33R65', 'H33R66']\n",
      "['H34R67', 'H34R68']\n",
      "['H35R69', 'H35R70']\n",
      "['H36R71', 'H36R72']\n",
      "['H37R73', 'H37R74']\n",
      "['H38R75', 'H38R76']\n",
      "['H39R77', 'H39R78']\n",
      "D:\\Bogdan\\HCT16_6hauxin_noAB-2col_7_1_2018\\AnalysisTemp\\Conv_zscan_03__current_cand.pkl\n",
      "['H1R1,R2', 'H2R3,R4', 'H3R5,R6', 'H4R7,R8', 'H5R9,R10', 'H6R11,R12', 'H7R13,R14', 'H8R15,R16', 'H9R17,R18', 'H10R19,R20', 'H11R21,R22', 'H12R23,R24', 'H13R25,R26', 'H14R27,R28', 'H15R29,R30', 'H16R31,R32', 'H17R33,R34', 'H18R35,R36', 'H19R37,R38', 'H20R39,R40', 'H21R41,R42', 'H22R43,R44', 'H23R45,R46', 'H24R47,R48', 'H25R49,R50', 'H26R51,R52', 'H27R53,R54', 'H28R55,R56', 'H29R57,R58', 'H30R59,R60', 'H31R61,R62', 'H32R63,R64', 'H33R65,R66', 'H34R67,R68', 'H35R69,R70', 'H36R71,R72', 'H37R73,R74', 'H38R75,R76', 'H39R77,R78']\n",
      "Aligning 0\n",
      "[ -4.19884298  19.24754176 -14.82929159] [ -4.02303268  19.19964656 -14.66828103] 39 35\n",
      "Aligning 1\n",
      "[ -4.31440411  17.00076632 -13.81695519] [ -4.01495662  16.97612507 -13.83942994] 47 33\n",
      "Aligning 2\n",
      "[ -3.98910186  15.80708757 -12.06173384] [ -3.6521945   15.74895019 -11.98612672] 47 33\n",
      "Aligning 3\n",
      "[ -3.90946359  14.56612743 -10.55487585] [ -3.59573004  14.46316201 -10.47634271] 51 42\n",
      "Aligning 4\n",
      "[ -3.72984728  13.58308787  -9.53725772] [ -3.52675613  13.55300202  -9.47071999] 45 40\n",
      "Aligning 5\n",
      "[ -3.85439884  11.15811392  -8.53398395] [ -3.58356315  11.1760875   -8.58598434] 54 44\n",
      "Aligning 6\n",
      "[ -3.84235423  11.34871019  -8.50750217] [ -3.52584578  11.39908739  -8.44104946] 53 40\n",
      "Aligning 7\n",
      "[ -3.92251968  11.26782674  -7.22591472] [ -3.68967139  11.2387535   -7.15891637] 58 48\n",
      "Aligning 8\n",
      "[-3.99622692  9.69769392 -6.17027573] [-3.80408138  9.66618529 -6.12610568] 55 49\n",
      "Aligning 9\n",
      "[-4.08906108  8.30920366 -5.70536723] [-3.77278254  8.2888826  -5.68211125] 51 38\n",
      "Aligning 10\n",
      "[-3.76066939  8.33621601 -5.65180927] [-3.5756095   8.33565812 -5.61715959] 56 42\n",
      "Aligning 11\n",
      "[-3.85565273  7.95281861 -4.78486335] [-3.88657997  7.94624564 -4.72850189] 64 54\n",
      "Aligning 12\n",
      "[-3.83919624  7.00116856 -4.0512911 ] [-3.75046283  7.00777397 -4.04046302] 59 51\n",
      "Aligning 13\n",
      "[-3.67256113  6.46260746 -4.0200826 ] [-3.5404834   6.46843377 -3.98548117] 58 54\n",
      "Aligning 14\n",
      "[-3.74757613  6.36328593 -3.82303912] [-3.52252681  6.35094583 -3.78944543] 60 53\n",
      "Aligning 15\n",
      "[-4.09465603  5.43374259 -2.7523253 ] [-3.66538758  5.43352908 -2.74993304] 62 54\n",
      "Suspecting failure.\n",
      "[array([-4.09465603,  5.43374259, -2.7523253 ]), array([-3.66538758,  5.43352908, -2.74993304])]\n",
      "Aligning 16\n",
      "[-5.10711871  5.48420839 -2.92226274] [-5.05229731  5.50184216 -2.91109876] 59 50\n",
      "Aligning 17\n",
      "[-3.51425542  5.00691622 -2.4523408 ] [-3.41812336  4.99995345 -2.48606493] 62 59\n",
      "Aligning 18\n",
      "[-3.66023135  4.78892045 -2.21833835] [-3.37121128  4.79302018 -2.30029648] 67 63\n",
      "Aligning 19\n",
      "[ 0.  0.  0.] [ 0.  0.  0.] 100 100\n",
      "Aligning 20\n",
      "[-3.26789443 -1.59671092  0.46926012] [-3.20649254 -1.61313676  0.48993085] 79 69\n",
      "Aligning 21\n",
      "[-3.40715344 -0.20685779  0.49796463] [-3.29942616 -0.17617992  0.48490679] 72 71\n",
      "Aligning 22\n",
      "[-3.23602384 -0.91159866  0.68899837] [-3.19604688 -0.9597046   0.72444777] 72 73\n",
      "Aligning 23\n",
      "[-3.23665911 -1.14050479  0.8649417 ] [-3.22751909 -1.1549539   0.87040107] 78 68\n",
      "Aligning 24\n",
      "[-3.22499703 -1.44970104  1.41943146] [-3.19648603 -1.48738687  1.43514772] 80 68\n",
      "Aligning 25\n",
      "[-3.33422965 -0.74223311  1.21669756] [-3.21706933 -0.75290393  1.29291196] 82 62\n",
      "Aligning 26\n",
      "[-3.33372134 -2.26922714  2.05520911] [-3.19466025 -2.27201607  2.11061322] 72 60\n",
      "Aligning 27\n",
      "[-3.21076974 -0.86057985  1.841775  ] [-3.21707062 -0.79938865  1.89178801] 78 64\n",
      "Aligning 28\n",
      "[-3.47605068 -1.12354361  1.785167  ] [-3.18010989 -1.09269394  1.84815631] 75 65\n",
      "Aligning 29\n",
      "[-3.2198084  -1.55075555  1.62538082] [-3.19324237 -1.61613604  1.63809541] 71 62\n",
      "Aligning 30\n",
      "[-2.99863786 -1.4674868   2.23074742] [-3.12366113 -1.46758184  2.261437  ] 70 59\n",
      "Aligning 31\n",
      "[-3.33683977 -1.58010847  2.01772336] [-3.2092602  -1.56859598  2.10774511] 74 64\n",
      "Aligning 32\n",
      "[-3.32838937 -1.66733869  2.39400044] [-3.1514046  -1.65195509  2.45328668] 77 66\n",
      "Aligning 33\n",
      "[-3.10696008 -1.56131258  2.23510269] [-3.12524995 -1.55004341  2.2610069 ] 76 65\n",
      "Aligning 34\n",
      "[-3.20442707 -0.81601039  2.37494885] [-3.09178778 -0.77259537  2.44538764] 78 67\n",
      "Aligning 35\n",
      "[-3.18236116 -2.12783706  2.26446156] [-3.26144106 -2.16930598  2.2766123 ] 69 62\n",
      "Aligning 36\n",
      "[-3.14687865 -1.81750418  2.47475895] [-3.15283901 -1.80802765  2.48692122] 59 47\n",
      "Aligning 37\n",
      "[-3.16003653 -2.13260447  2.55719201] [-3.20232567 -2.10117639  2.65894606] 67 50\n",
      "Aligning 38\n",
      "[-3.19000345 -6.44122594  2.05319085] [-3.18180846 -6.49380763  2.11167759] 68 52\n",
      "['H1R1', 'H1R2']\n",
      "['H2R3', 'H2R4']\n",
      "['H3R5', 'H3R6']\n",
      "['H4R7', 'H4R8']\n",
      "['H5R9', 'H5R10']\n",
      "['H6R11', 'H6R12']\n",
      "['H7R13', 'H7R14']\n",
      "['H8R15', 'H8R16']\n",
      "['H9R17', 'H9R18']\n",
      "['H10R19', 'H10R20']\n",
      "['H11R21', 'H11R22']\n",
      "['H12R23', 'H12R24']\n",
      "['H13R25', 'H13R26']\n",
      "['H14R27', 'H14R28']\n",
      "['H15R29', 'H15R30']\n",
      "['H16R31', 'H16R32']\n",
      "['H17R33', 'H17R34']\n",
      "['H18R35', 'H18R36']\n",
      "['H19R37', 'H19R38']\n",
      "['H20R39', 'H20R40']\n",
      "['H21R41', 'H21R42']\n",
      "['H22R43', 'H22R44']\n",
      "['H23R45', 'H23R46']\n",
      "['H24R47', 'H24R48']\n",
      "['H25R49', 'H25R50']\n",
      "['H26R51', 'H26R52']\n",
      "['H27R53', 'H27R54']\n",
      "['H28R55', 'H28R56']\n",
      "['H29R57', 'H29R58']\n",
      "['H30R59', 'H30R60']\n",
      "['H31R61', 'H31R62']\n",
      "['H32R63', 'H32R64']\n",
      "['H33R65', 'H33R66']\n",
      "['H34R67', 'H34R68']\n",
      "['H35R69', 'H35R70']\n",
      "['H36R71', 'H36R72']\n",
      "['H37R73', 'H37R74']\n",
      "['H38R75', 'H38R76']\n",
      "['H39R77', 'H39R78']\n"
     ]
    }
   ],
   "source": [
    "#folders = ['D:\\\\Bogdan\\\\A549_SI13Ext_D_3_26_2018\\\\H1R9','D:\\\\Bogdan\\\\A549_SI13Ext_D_3_26_2018\\\\H106X53']\n",
    "reload(tia)\n",
    "\n",
    "##where to save\n",
    "analysis_folder = master_folder+os.sep+r'AnalysisTemp'\n",
    "if not os.path.exists(analysis_folder):\n",
    "    os.makedirs(analysis_folder)\n",
    "\n",
    "###paramaters\n",
    "overwrite=False\n",
    "\n",
    "#drift paramaters\n",
    "ref=0 #drift reference hybe\n",
    "sz_ex=80 #the effective size of the cube to do drift correction\n",
    "hseed_beads=150 # The minimum bead height (prefitting)\n",
    "nbeads = 100 # The maximum number of beads\n",
    "force_drift=False\n",
    "#brightness cutoffs\n",
    "low_limit=150 #the minimum prefitting signal height\n",
    "bad_low_limit = 75\n",
    "bad_tags = []#['R53']\n",
    "prefered_limit=300 #the initial try of prefitting signal height\n",
    "#distance cutoffs\n",
    "cutoff_window=20 #fitted points within this distance will be reported\n",
    "cutoff_chr=10 #if no prefered brightness points are detected within this distance, then include low brightness ones\n",
    "from scipy.spatial.distance import cdist\n",
    "\n",
    "#iterate through good fields of view\n",
    "ind=0\n",
    "folders_keep_base = folders[:]\n",
    "folders_keep = list(folders_keep_base)\n",
    "#itterate through fields of view\n",
    "for ind in range(len(fov_ids))[:]:#[21]:#\n",
    "    ##limit the folder hybes\n",
    "    fov_id = fov_ids[ind]\n",
    "    file_=fovs[fov_id]\n",
    "    chr_pts_ = chr_pts[ind] #positions of the selected centers of chromosomes in reference frame.\n",
    "    chr_pts_ = np.array(chr_pts_)[:,::-1]#zxy coords of chromosomes already in the right position\n",
    "    \n",
    "    #Decide where to save the candidate positions of the hybe\n",
    "    fl_cands = analysis_folder+os.sep+file_.replace('.dax','__current_cand.pkl')#file where it save candidates\n",
    "    fl_cor = analysis_folder+os.sep+file_.replace('.dax','__current_cor_v9.pkl')\n",
    "    print fl_cands\n",
    "    candid_spot={}\n",
    "    \n",
    "    #simplify folder and keep only what has not been analysed except for one reference.\n",
    "    tags = [os.path.basename(folder) for folder in folders_keep_base]\n",
    "    start=0\n",
    "    if os.path.exists(fl_cands) and not overwrite:\n",
    "        candid_spot = pickle.load(open(fl_cands,'rb'))\n",
    "        tags_existing = []\n",
    "        for key in candid_spot.keys():\n",
    "            cand_dic_0 = candid_spot[key][0]\n",
    "            tags_existing.extend(cand_dic_0.keys())\n",
    "        tags_existing = np.unique(tags_existing)\n",
    "        keep = np.array([tag not in tags_existing for tag in tags])\n",
    "        folders_in_common = [folder for tag,folder in zip(tags,folders_keep) if tag in tags_existing]\n",
    "        folders_keep = [folders_in_common[0]]+list(np.array(folders_keep_base)[keep])\n",
    "        start = 1\n",
    "    #tags = ['H2R10','H59R58','H60R59','H61R60','H62R61','H63R62','H64R63','H65R64','H66R65']\n",
    "    #tags=['H2R10', 'H67P10', 'H68P53']\n",
    "    #folders_keep = [os.path.dirname(folders_keep[0])+os.sep+tag for tag in tags]\n",
    "    \n",
    "    tags = [os.path.basename(folder) for folder in folders_keep]\n",
    "    print tags\n",
    "    #load data (memory mapping)\n",
    "    ims_beads=[]\n",
    "    ims_cy5=[]\n",
    "    ims_cy7=[]\n",
    "    tags = []\n",
    "    for folder in folders_keep:\n",
    "        file__= folder+os.sep+file_\n",
    "        if os.path.exists(file__):\n",
    "            #print file__\n",
    "            tags.append(os.path.basename(folder))\n",
    "            im = tia.DaxReader(file__).loadMap()\n",
    "            ims_beads += [im[10:-10][2::3]]\n",
    "            ims_cy5 += [im[10:-10][1::3]]\n",
    "            ims_cy7 += [im[10:-10][0::3]]\n",
    "    #compute the drift for the field of view\n",
    "    if len(ims_beads)>1:\n",
    "        #txyz_both,overwrite = tia.get_STD_beaddrift_v2(ims_beads,tags,sz_ex=sz_ex,hseed=hseed_beads,nseed=nbeads,ref=None,force=force_drift,save_file=fl_cor)\n",
    "        txyz_both,_ = tia.get_STD_beaddrift(ims_beads,sz_ex=sz_ex,hseed=hseed_beads,nseed=nbeads,ref=None,force=force_drift,save_file=fl_cor)\n",
    "        txyz = tia.simplify_txyz(txyz_both)\n",
    "        txyz = np.array(txyz)-[txyz[ref]]\n",
    "\n",
    "    #iterate through folders\n",
    "    for iim in range(len(ims_cy5))[start:]:#skip the reference\n",
    "        #iim specific vars\n",
    "        tag = tags[iim]\n",
    "        txyz_ = txyz[iim]\n",
    "        print to_2tags(tag)\n",
    "        #correct for illumination\n",
    "        #cy5\n",
    "        im=np.array(ims_cy5[iim],dtype=float)/im_cy5_repair*np.median(im_cy5_repair)\n",
    "        tia.update_candid_spot(im,low_limit,prefered_limit,chr_pts_,txyz_,to_2tags(tag)[0],\n",
    "                       cutoff_window,cutoff_chr,candid_spot,fl_cands)\n",
    "        #cy7\n",
    "        im=np.array(ims_cy7[iim],dtype=float)/im_cy7_repair*np.median(im_cy7_repair)\n",
    "        tia.update_candid_spot(im,low_limit,prefered_limit,chr_pts_,txyz_,to_2tags(tag)[-1],\n",
    "                       cutoff_window,cutoff_chr,candid_spot,fl_cands)"
   ]
  },
  {
   "cell_type": "code",
   "execution_count": null,
   "metadata": {
    "collapsed": true
   },
   "outputs": [],
   "source": []
  },
  {
   "cell_type": "code",
   "execution_count": null,
   "metadata": {
    "collapsed": true
   },
   "outputs": [],
   "source": []
  },
  {
   "cell_type": "code",
   "execution_count": null,
   "metadata": {
    "collapsed": true
   },
   "outputs": [],
   "source": []
  },
  {
   "cell_type": "code",
   "execution_count": null,
   "metadata": {
    "collapsed": true
   },
   "outputs": [],
   "source": []
  },
  {
   "cell_type": "code",
   "execution_count": null,
   "metadata": {
    "collapsed": true
   },
   "outputs": [],
   "source": []
  },
  {
   "cell_type": "code",
   "execution_count": 303,
   "metadata": {
    "collapsed": false
   },
   "outputs": [
    {
     "data": {
      "text/plain": [
       "{'H1R9': array([[-0.18844849, -0.05478291, -0.09958932],\n",
       "        [ 0.18844849,  0.05478291,  0.09958932]]),\n",
       " 'H20R1': array([[-0.17371287, -0.41107573, -0.87147261],\n",
       "        [ 0.03868514, -0.39550646, -0.85415891]]),\n",
       " 'H21R2': array([[ 0.,  0.,  0.],\n",
       "        [ 0.,  0.,  0.]]),\n",
       " 'H22R3': array([[-0.15541841, -0.30854442, -0.35422327],\n",
       "        [ 0.00431397, -0.33717363, -0.33183036]]),\n",
       " 'H23R4': array([[-0.19498527, -0.98761648, -0.89142904],\n",
       "        [ 0.02800608, -0.98408981, -0.85627313]]),\n",
       " 'H24R5': array([[-0.35025263, -1.01278085, -0.94332314],\n",
       "        [ 0.09296144, -0.99196635, -0.92722957]]),\n",
       " 'H25R6': array([[-0.26168647, -0.6496551 , -1.05770227],\n",
       "        [ 0.05097884, -0.65355239, -1.04699885]]),\n",
       " 'H26R7': array([[-0.12782036,  1.81066072,  0.48889034],\n",
       "        [ 0.16884796,  1.82515572,  0.45945736]]),\n",
       " 'H27R8': array([[-0.05696053,  1.27727627,  1.17395812],\n",
       "        [ 0.18666928,  1.26957657,  1.1622168 ]]),\n",
       " 'H2R10': array([[-0.46473186,  0.15457567, -1.18363941],\n",
       "        [-0.14223603,  0.27351237, -0.9276803 ]]),\n",
       " 'H3R11': array([[-0.3536681 , -0.53456773, -1.38518558],\n",
       "        [-0.11397061, -0.4422857 , -1.14202816]]),\n",
       " 'H4R12': array([[-0.26828651, -0.2317284 , -1.46064739],\n",
       "        [-0.07770197, -0.11760696, -1.21880781]]),\n",
       " 'H5R13': array([[-0.33019892, -1.84330523, -1.32139995],\n",
       "        [-0.05577863, -1.69801868, -1.04949926]]),\n",
       " 'H6R14': array([[-0.3558399 , -1.30310865, -1.63782779],\n",
       "        [-0.17487791, -1.16912883, -1.46248901]])}"
      ]
     },
     "execution_count": 303,
     "metadata": {},
     "output_type": "execute_result"
    }
   ],
   "source": [
    "pickle.load(open(r'D:\\Bogdan\\A549_SI13Ext_D_3_26_2018\\Analysis5\\Conv_zscan_21__current_cor_v2X.pkl','rb'))"
   ]
  },
  {
   "cell_type": "code",
   "execution_count": null,
   "metadata": {
    "collapsed": true
   },
   "outputs": [],
   "source": [
    "Aligning 0\n",
    "[-0.36045557 -1.91663039 -1.79808793] [-0.10502739 -1.75878778 -1.6700326 ] 68 68\n",
    "Aligning 1\n",
    "[-0.46473186  0.15457567 -1.18363941] [-0.17651543  0.32043216 -1.00927856] 67 67\n",
    "Aligning 2\n",
    "[-0.3536681  -0.53456773 -1.38518558] [-0.19795125 -0.35940894 -1.22554202] 68 68\n",
    "Aligning 3\n",
    "[-0.26828651 -0.2317284  -1.46064739] [-0.12236094 -0.07743284 -1.26272727] 69 69"
   ]
  },
  {
   "cell_type": "code",
   "execution_count": 299,
   "metadata": {
    "collapsed": false
   },
   "outputs": [
    {
     "data": {
      "text/plain": [
       "True"
      ]
     },
     "execution_count": 299,
     "metadata": {},
     "output_type": "execute_result"
    }
   ],
   "source": [
    "force_drift"
   ]
  },
  {
   "cell_type": "code",
   "execution_count": 298,
   "metadata": {
    "collapsed": false
   },
   "outputs": [
    {
     "data": {
      "text/plain": [
       "['H1R9',\n",
       " 'H2R10',\n",
       " 'H3R11',\n",
       " 'H4R12',\n",
       " 'H5R13',\n",
       " 'H6R14',\n",
       " 'H20R1',\n",
       " 'H21R2',\n",
       " 'H22R3',\n",
       " 'H23R4',\n",
       " 'H24R5',\n",
       " 'H25R6',\n",
       " 'H26R7',\n",
       " 'H27R8']"
      ]
     },
     "execution_count": 298,
     "metadata": {},
     "output_type": "execute_result"
    }
   ],
   "source": [
    "tags"
   ]
  },
  {
   "cell_type": "code",
   "execution_count": null,
   "metadata": {
    "collapsed": true
   },
   "outputs": [],
   "source": []
  },
  {
   "cell_type": "code",
   "execution_count": 284,
   "metadata": {
    "collapsed": false
   },
   "outputs": [
    {
     "name": "stdout",
     "output_type": "stream",
     "text": [
      "Fitting:98 points\n",
      "Fitting:47 points\n"
     ]
    }
   ],
   "source": [
    "\"\"\"\n",
    "folders_keep = folders[:]\n",
    "ind=0\n",
    "fov_id = fov_ids[ind]\n",
    "im_means=[]\n",
    "file_=fovs[fov_id]\n",
    "print file_\n",
    "ims_cy5,ims_beads,names=[],[],[]\n",
    "for folder in folders_keep:\n",
    "    file__= folder+os.sep+file_\n",
    "    if os.path.exists(file__):\n",
    "        names+=[os.path.basename(folder)]\n",
    "        im = tia.DaxReader(file__).loadMap()\n",
    "        ims_beads += [im[2::2][5:-5]]#/im_beads_repair*np.median(im_beads_repair)]\n",
    "        ims_cy5 += [im[1::2][5:-5]]#/im_cy5_repair*np.median(im_cy5_repair)]\n",
    "\"\"\"\n",
    "sz_ex = 75\n",
    "im = ims_beads[0]\n",
    "coord_sel1 = np.array(im.shape)/2\n",
    "im_sm = tia.grab_block(im,coord_sel1,[sz_ex]*3)\n",
    "#cents1 = get_STD_centers(im_sm)\n",
    "centers1 = tia.get_seed_points_base(im_sm,gfilt_size=0.75,filt_size=3,th_seed=hseed_beads,hot_pix_th=5)\n",
    "pfits1 = tia.fit_seed_points_base_fast(im_sm,centers1,width_z=1.,width_xy=1.,radius_fit=5,n_max_iter=10,max_dist_th=0.25)\n",
    "x,y,z = pfits1[:,1:4].T\n",
    "plt.figure()\n",
    "plt.plot(z,y,'rx')\n",
    "plt.imshow(np.max(im_sm,0),interpolation='nearest',cmap='gray')\n",
    "\n",
    "im = ims_beads[len(ims_beads)/2]\n",
    "coord_sel1 = np.array(im.shape)/2\n",
    "im_sm = tia.grab_block(im,coord_sel1,[sz_ex]*3)\n",
    "#cents1 = get_STD_centers(im_sm)\n",
    "centers2 = tia.get_seed_points_base(im_sm,gfilt_size=0.75,filt_size=3,th_seed=hseed_beads,hot_pix_th=5)\n",
    "pfits2 = tia.fit_seed_points_base_fast(im_sm,centers2,width_z=1.8*1.5/2.,width_xy=1.,radius_fit=5,n_max_iter=10,max_dist_th=0.25)\n",
    "x,y,z = pfits2[:,1:4].T\n",
    "plt.figure()\n",
    "plt.plot(z,y,'rx')\n",
    "plt.imshow(np.max(im_sm,0),interpolation='nearest',cmap='gray')\n",
    "\n",
    "plt.show()"
   ]
  },
  {
   "cell_type": "code",
   "execution_count": null,
   "metadata": {
    "collapsed": true
   },
   "outputs": [],
   "source": [
    "[-0.09607926 -2.58486963 -0.7264244 ] [-0.09361351 -2.37996744 -0.57876109] 40 53"
   ]
  },
  {
   "cell_type": "code",
   "execution_count": null,
   "metadata": {
    "collapsed": true
   },
   "outputs": [],
   "source": []
  },
  {
   "cell_type": "code",
   "execution_count": 285,
   "metadata": {
    "collapsed": false
   },
   "outputs": [
    {
     "data": {
      "text/plain": [
       "array([ 0.15995079,  2.59000803,  0.75762999])"
      ]
     },
     "execution_count": 285,
     "metadata": {},
     "output_type": "execute_result"
    }
   ],
   "source": [
    "tia.translation_aling_pts(pfits1[:,1:4],pfits2[:,1:4],plt_val=True)"
   ]
  },
  {
   "cell_type": "code",
   "execution_count": 267,
   "metadata": {
    "collapsed": false
   },
   "outputs": [],
   "source": [
    "dic_cor = pickle.load(open(r'D:\\Bogdan\\A549_SI13Ext_D_3_26_2018\\Analysis5\\Conv_zscan_21__current_cor_v2.pkl','rb'))\n",
    "txyz2 =  pickle.load(open(r'D:\\Bogdan\\A549_SI13Ext_D_3_26_2018\\Analysis4\\Conv_zscan_21__current_cor.pkl','rb'))"
   ]
  },
  {
   "cell_type": "code",
   "execution_count": 219,
   "metadata": {
    "collapsed": true
   },
   "outputs": [],
   "source": [
    "dic_cor2 =  pickle.load(open(r'D:\\Bogdan\\A549_SI13Ext_D_3_26_2018\\Analysis5\\Conv_zscan_02__current_cor_v2.pkl','rb'))\n"
   ]
  },
  {
   "cell_type": "code",
   "execution_count": 268,
   "metadata": {
    "collapsed": false
   },
   "outputs": [
    {
     "data": {
      "text/plain": [
       "array([[ 0.14, -2.1 , -0.63],\n",
       "       [ 0.  ,  0.  ,  0.  ],\n",
       "       [ 0.04, -0.72, -0.23],\n",
       "       [ 0.1 , -0.41, -0.28],\n",
       "       [ 0.03, -2.  , -0.12],\n",
       "       [ 0.04, -1.47, -0.52],\n",
       "       [ 0.03, -0.77, -0.52],\n",
       "       [ 0.04, -0.84, -0.39],\n",
       "       [ 0.12, -1.02,  0.06],\n",
       "       [ 0.01,  0.03,  0.06],\n",
       "       [-0.04, -0.59,  0.69],\n",
       "       [ 0.13,  0.09,  1.16],\n",
       "       [ 0.02, -0.36,  1.29],\n",
       "       [ 0.21, -0.28,  1.27],\n",
       "       [ 0.15, -0.96,  1.1 ],\n",
       "       [ 0.05, -0.31,  1.21],\n",
       "       [ 0.19,  0.18,  0.87],\n",
       "       [ 0.19,  0.73,  1.19],\n",
       "       [ 0.15,  0.  ,  0.82],\n",
       "       [ 0.24, -0.7 ,  0.23]])"
      ]
     },
     "execution_count": 268,
     "metadata": {},
     "output_type": "execute_result"
    }
   ],
   "source": [
    "np.round(np.mean(txyz2[:20],1)-[np.mean(txyz2[:20],1)[1]],2)"
   ]
  },
  {
   "cell_type": "code",
   "execution_count": 269,
   "metadata": {
    "collapsed": false
   },
   "outputs": [
    {
     "data": {
      "text/plain": [
       "(array([[-0.03192648,  0.00714669, -0.01393515],\n",
       "        [ 0.03192648, -0.00714669,  0.01393515]]),\n",
       " [array([-0.26057639, -1.4498307 , -0.77176004]),\n",
       "  array([-0.09492652, -1.27701033, -0.61995538])])"
      ]
     },
     "execution_count": 269,
     "metadata": {},
     "output_type": "execute_result"
    }
   ],
   "source": [
    "dic_cor2[ki[0]],txyz2[0]"
   ]
  },
  {
   "cell_type": "code",
   "execution_count": 260,
   "metadata": {
    "collapsed": false
   },
   "outputs": [
    {
     "data": {
      "text/plain": [
       "array([[ 0.11,  1.65, -0.36],\n",
       "       [ 0.  ,  0.  ,  0.  ],\n",
       "       [ 0.14,  0.76, -0.59],\n",
       "       [ 0.  ,  1.06, -0.58],\n",
       "       [ 0.06,  0.96, -0.95],\n",
       "       [ 0.01,  1.43, -0.27],\n",
       "       [ 0.21,  0.23, -0.92],\n",
       "       [ 0.14,  0.06, -0.41],\n",
       "       [ 0.04,  0.88, -0.68],\n",
       "       [-0.05,  0.7 , -0.86],\n",
       "       [ 0.12,  1.31, -0.78],\n",
       "       [-0.08,  1.45, -0.66],\n",
       "       [ 0.11,  1.2 , -1.  ],\n",
       "       [ 0.15,  0.61, -1.19],\n",
       "       [ 0.15,  0.84, -1.23],\n",
       "       [ 0.09,  1.06, -1.11],\n",
       "       [ 0.2 , -0.5 , -0.42],\n",
       "       [ 0.08,  0.85, -1.06],\n",
       "       [ 0.02,  2.16, -0.63],\n",
       "       [ 0.02,  1.67, -1.23],\n",
       "       [ 0.03,  1.2 , -0.74],\n",
       "       [ 0.15,  2.75, -0.95],\n",
       "       [ 0.01,  1.66, -0.79],\n",
       "       [ 0.16,  1.24, -0.81],\n",
       "       [ 0.1 ,  1.55, -0.61],\n",
       "       [ 0.16,  1.52, -0.46],\n",
       "       [ 0.13,  2.32, -0.41],\n",
       "       [ 0.17,  1.34, -0.62],\n",
       "       [ 0.2 ,  2.48, -0.55],\n",
       "       [ 0.13,  1.24,  0.22],\n",
       "       [ 0.19,  0.99,  0.33],\n",
       "       [ 0.11,  2.33, -0.17],\n",
       "       [ 0.07,  1.54, -0.56],\n",
       "       [ 0.02,  1.3 , -0.73],\n",
       "       [ 0.27,  2.21, -0.41],\n",
       "       [ 0.21,  2.16, -0.48],\n",
       "       [ 0.04,  1.58,  0.06],\n",
       "       [ 0.28, -0.19, -0.19],\n",
       "       [ 0.2 ,  1.89, -1.26],\n",
       "       [ 0.11,  1.65, -0.36],\n",
       "       [ 0.11,  3.54, -0.41],\n",
       "       [ 0.18,  3.12, -0.31],\n",
       "       [ 0.14,  2.31, -0.29],\n",
       "       [ 0.21,  1.76,  0.09],\n",
       "       [ 0.2 ,  1.25, -0.17],\n",
       "       [ 0.08,  0.68, -0.25],\n",
       "       [ 0.1 ,  1.8 ,  0.1 ],\n",
       "       [ 0.27,  0.84,  0.01],\n",
       "       [ 0.18,  1.74, -0.07],\n",
       "       [ 0.14, -0.44,  0.72],\n",
       "       [ 0.22,  0.51, -0.1 ],\n",
       "       [ 0.11,  1.59, -0.23],\n",
       "       [ 0.08,  1.14, -0.11],\n",
       "       [ 0.14,  1.49, -0.63],\n",
       "       [ 0.07,  0.18, -0.02],\n",
       "       [ 0.04,  0.08, -0.53],\n",
       "       [ 0.18,  0.97, -0.63],\n",
       "       [ 0.13,  0.49, -1.18],\n",
       "       [ 0.23,  1.36, -0.45],\n",
       "       [ 0.32,  1.97, -0.31],\n",
       "       [ 0.17,  1.83, -0.04],\n",
       "       [ 0.16,  1.03, -0.16],\n",
       "       [ 0.15,  1.55,  0.1 ],\n",
       "       [ 0.2 ,  0.42, -0.14],\n",
       "       [ 0.22,  2.03, -0.34],\n",
       "       [ 0.34,  2.38,  0.28],\n",
       "       [ 0.23,  1.33,  0.54],\n",
       "       [ 0.11,  3.1 ,  1.88],\n",
       "       [ 0.23,  2.56,  2.1 ],\n",
       "       [ 0.13,  1.77,  2.98],\n",
       "       [ 0.22,  1.48,  2.2 ],\n",
       "       [ 0.14,  2.06,  1.89],\n",
       "       [ 0.18,  2.14,  2.17],\n",
       "       [ 0.19,  1.5 ,  2.05],\n",
       "       [ 0.02,  2.9 ,  2.47],\n",
       "       [ 0.12,  1.8 ,  2.27],\n",
       "       [ 0.15,  3.48,  2.04]])"
      ]
     },
     "execution_count": 260,
     "metadata": {},
     "output_type": "execute_result"
    }
   ],
   "source": [
    "keys = dic_cor.keys()\n",
    "keys2 = dic_cor2.keys()\n",
    "ki = np.intersect1d(keys,keys2)\n",
    "ki = np.array(ki)[np.argsort(map(get_hybe,ki))]\n",
    "#[(k,np.mean(dic_cor[k],0)-np.mean(dic_cor2[k],0)) for k in ki]\n",
    "np.round(np.array([np.mean(dic_cor2[k],0) for k in ki])-[np.mean(dic_cor2[ki[1]],0)],2)"
   ]
  },
  {
   "cell_type": "code",
   "execution_count": null,
   "metadata": {
    "collapsed": true
   },
   "outputs": [],
   "source": []
  },
  {
   "cell_type": "code",
   "execution_count": 226,
   "metadata": {
    "collapsed": false
   },
   "outputs": [
    {
     "data": {
      "text/plain": [
       "array([[-0.01757451,  0.05441316,  0.01411211],\n",
       "       [ 0.01757451, -0.05441316, -0.01411211]])"
      ]
     },
     "execution_count": 226,
     "metadata": {},
     "output_type": "execute_result"
    }
   ],
   "source": [
    "dic_cor['H1R9']"
   ]
  },
  {
   "cell_type": "code",
   "execution_count": null,
   "metadata": {
    "collapsed": true
   },
   "outputs": [],
   "source": []
  },
  {
   "cell_type": "code",
   "execution_count": null,
   "metadata": {
    "collapsed": true
   },
   "outputs": [],
   "source": []
  },
  {
   "cell_type": "code",
   "execution_count": 255,
   "metadata": {
    "collapsed": false
   },
   "outputs": [
    {
     "name": "stdout",
     "output_type": "stream",
     "text": [
      "(41L, 271L)\n"
     ]
    }
   ],
   "source": [
    "dists = cdist(chr_pts_,centers)\n",
    "mindist = np.min(dists,0)\n",
    "keep = mindist<cutoff_window #keep only points within a distince cutoff_window from a chromosome\n",
    "print dists.shape\n",
    "centersh_close = centersh[keep] "
   ]
  },
  {
   "cell_type": "code",
   "execution_count": null,
   "metadata": {
    "collapsed": true
   },
   "outputs": [],
   "source": []
  },
  {
   "cell_type": "code",
   "execution_count": 140,
   "metadata": {
    "collapsed": false
   },
   "outputs": [
    {
     "name": "stdout",
     "output_type": "stream",
     "text": [
      "Aligning 0\n",
      "[-0.27847422 -5.60937106 -0.64613467] [-0.26486985 -5.58067618 -0.66107494]\n",
      "Aligning 1\n",
      "[ 0.  0.  0.] [ 0.  0.  0.]\n",
      "Aligning 2\n",
      "[-0.14559252  1.01004937  0.15957446] [-0.19759638  1.00774016  0.1864611 ]\n"
     ]
    },
    {
     "data": {
      "text/plain": [
       "([[array([-0.27847422, -5.60937106, -0.64613467]),\n",
       "   array([-0.26486985, -5.58067618, -0.66107494])],\n",
       "  [array([ 0.,  0.,  0.]), array([ 0.,  0.,  0.])],\n",
       "  [array([-0.14559252,  1.01004937,  0.15957446]),\n",
       "   array([-0.19759638,  1.00774016,  0.1864611 ])]],\n",
       " True)"
      ]
     },
     "execution_count": 140,
     "metadata": {},
     "output_type": "execute_result"
    }
   ],
   "source": [
    "reload(tia)\n",
    "#tia.get_STD_centers(ims_beads[0],hseed=150,nseed=500,plt_val=True)\n",
    "tia.get_STD_beaddrift(ims_beads[:3],sz_ex=75,hseed=100,nseed=100,ref=None,force=True)#,save_file=save_file)"
   ]
  },
  {
   "cell_type": "code",
   "execution_count": 127,
   "metadata": {
    "collapsed": false
   },
   "outputs": [
    {
     "data": {
      "text/plain": [
       "<module 'TadImagingAnalysis' from 'C:\\Data\\Alistair\\code\\python-functions\\python-functions-library\\TadImagingAnalysis.py'>"
      ]
     },
     "execution_count": 127,
     "metadata": {},
     "output_type": "execute_result"
    }
   ],
   "source": [
    "reload(tia)"
   ]
  },
  {
   "cell_type": "code",
   "execution_count": null,
   "metadata": {
    "collapsed": true
   },
   "outputs": [],
   "source": [
    "cdist"
   ]
  },
  {
   "cell_type": "code",
   "execution_count": 23,
   "metadata": {
    "collapsed": false
   },
   "outputs": [],
   "source": [
    "plt.plot(x,y,'o')\n",
    "plt.show()"
   ]
  },
  {
   "cell_type": "code",
   "execution_count": 28,
   "metadata": {
    "collapsed": false
   },
   "outputs": [
    {
     "data": {
      "text/plain": [
       "57"
      ]
     },
     "execution_count": 28,
     "metadata": {},
     "output_type": "execute_result"
    }
   ],
   "source": [
    "\n",
    "candid_dic[tag]=np.array(self.pfits)#drif corrected\n",
    "candid_spot[i_master]=(candid_dic,np.array(master[::-1]))\n",
    "candid_dic[tag] ="
   ]
  },
  {
   "cell_type": "code",
   "execution_count": 14,
   "metadata": {
    "collapsed": false
   },
   "outputs": [
    {
     "data": {
      "text/plain": [
       "1"
      ]
     },
     "execution_count": 14,
     "metadata": {},
     "output_type": "execute_result"
    }
   ],
   "source": [
    "len(ims_cy5)"
   ]
  },
  {
   "cell_type": "code",
   "execution_count": null,
   "metadata": {
    "collapsed": true
   },
   "outputs": [],
   "source": [
    "candid_spot[i_master]=(candid_dic,np.array(master[::-1]))"
   ]
  },
  {
   "cell_type": "code",
   "execution_count": null,
   "metadata": {
    "collapsed": true
   },
   "outputs": [],
   "source": []
  },
  {
   "cell_type": "code",
   "execution_count": null,
   "metadata": {
    "collapsed": true
   },
   "outputs": [],
   "source": [
    "#Power up the GUI and run across all fov and chroms selected\n",
    "reload(tia)\n",
    "overwrite=False\n",
    "analysis_folder = master_folder+os.sep+r'Analysis1'\n",
    "if not os.path.exists(analysis_folder):\n",
    "    os.makedirs(analysis_folder)\n",
    "folders_keep = folders\n",
    "for ind in range(len(fov_ids)):\n",
    "    try:\n",
    "        plt.close('all')\n",
    "        candid_spot = {}\n",
    "        candid_spotS = {}\n",
    "\n",
    "        fov_id = fov_ids[ind]\n",
    "        fl_cands = analysis_folder+os.sep+fovs[fov_id].replace('.dax','__current_cand.pkl')#file where it save candidates\n",
    "        fl_candsS = analysis_folder+os.sep+fovs[fov_id].replace('.dax','__current_candS.pkl')#file where it save candidates\n",
    "        fl_finished = analysis_folder+os.sep+fovs[fov_id].replace('.dax','.finished')#file where it marks finished\n",
    "        file_=fovs[fov_id]\n",
    "        print file_\n",
    "        if not os.path.exists(fl_finished) or overwrite:\n",
    "            if os.path.exists(fl_cands) and not overwrite:\n",
    "                candid_spot = pickle.load(open(fl_cands,'rb'))\n",
    "            if os.path.exists(fl_candsS) and not overwrite:\n",
    "                candid_spotS = pickle.load(open(fl_candsS,'rb'))\n",
    "            ims_cy5,ims_beads,names=[],[],[]\n",
    "            for folder in folders_keep:\n",
    "                file__= folder+os.sep+file_\n",
    "                if os.path.exists(file__):\n",
    "                    print file__\n",
    "                    names+=[os.path.basename(folder)]\n",
    "                    im = tia.DaxReader(file__).loadMap()\n",
    "                    ims_beads += [im[2::2][5:-5]/im_beads_repair*np.median(im_beads_repair)]\n",
    "                    ims_cy5 += [im[1::2][5:-5]/im_cy5_repair*np.median(im_cy5_repair)]\n",
    "\n",
    "            chroms = tia.imshow_mark_3d_v2(ims_cy5,image_names=names)\n",
    "\n",
    "            chroms.width_z = 1.8*1.5/2.\n",
    "            chroms.hot_pix_th=4\n",
    "\n",
    "            from scipy.spatial.distance import cdist\n",
    "\n",
    "            fov_id = fov_ids[ind]\n",
    "            chr_pts_ = chr_pts[ind]\n",
    "\n",
    "            self=chroms\n",
    "            cutoff_trace=10\n",
    "            dm =20#dimension of cube where to zoom in (actually 60 pix)\n",
    "            ref=0\n",
    "            #compute the drift\n",
    "            save_file = analysis_folder+os.sep+fovs[fov_id].replace('.dax','__current_cor.pkl')\n",
    "            txyz_both,overwrite = tia.get_STD_beaddrift(ims_beads,sz_ex=75,hseed=200,ref=None,force=False,save_file=save_file)\n",
    "            if len(np.array(txyz_both).shape)==3:\n",
    "                txyz = np.mean(txyz_both,1)\n",
    "            else:\n",
    "                txyz = txyz_both\n",
    "            txyz = np.array(txyz)-[txyz[ref]]\n",
    "\n",
    "            for i_master,master in enumerate(chr_pts_):\n",
    "                if not candid_spot.has_key(i_master):\n",
    "                    self.ax2.set_ylim(master[2]+dm+dm/2,master[2]-dm-dm/2)\n",
    "                    class_ids_new,coords_new=[],[]\n",
    "                    candid_dic={}#this gets saved to file\n",
    "                    candid_dicS={}\n",
    "                    #for each chr you have a candid_dic. the candid_dic dictionary goes across hybes and reports a list of fits\n",
    "                    sel_cl_dic={}\n",
    "                    sel_max_dic={}\n",
    "                    for self.index_im in range(len(self.ims)):\n",
    "                        self.set_image()\n",
    "                        drift_x,drift_y,drift_z = txyz[self.index_im][::-1]\n",
    "                        #drift_x,drift_y = int(drift_x),int(drift_y)\n",
    "                        drift_x,drift_y = int(np.min([drift_x,2*self.ims[0].shape[-2]])),int(np.min([drift_y,2*self.ims[0].shape[-1]]))\n",
    "                        self.ax1.set_xlim(master[0]+drift_x-dm,master[0]+drift_x+dm)#\n",
    "                        self.ax1.set_ylim(master[1]+drift_y+dm,master[1]+drift_y-dm)#\n",
    "                        self.auto_scale()\n",
    "                        self.th_seed=250\n",
    "                        self.get_seed_points()\n",
    "                        self.fit_seed_points()\n",
    "                        if len(self.pfits)==0:\n",
    "                            self.th_seed=150\n",
    "                            self.get_seed_points()\n",
    "                            self.fit_seed_points()\n",
    "                        ids=np.array(self.class_ids)\n",
    "                        coords=np.array(self.coords)\n",
    "\n",
    "                        if len(self.pfits)>0:\n",
    "                            tag = os.path.basename(self.image_names[self.index_im])\n",
    "                            candid_dic[tag]=np.array(self.pfits)\n",
    "                            candid_dic[tag][:,1:4]=candid_dic[tag][:,1:4]-[txyz[self.index_im]]#apply drift correction\n",
    "\n",
    "                            all_pts_hybe = candid_dic[tag][:,1:4]\n",
    "                            chr_pts_comp =[pt__[::-1]for pt__ in chr_pts_]\n",
    "                            inds = np.argmin(cdist(all_pts_hybe,chr_pts_comp),-1)\n",
    "                            keep = inds==i_master\n",
    "                            candid_dicS[tag] = np.array(candid_dic[tag])\n",
    "                            candid_dic[tag] = candid_dic[tag][keep]\n",
    "\n",
    "                            if np.sum(keep)>0:\n",
    "                                coords_new.append(self.pfits[keep][0][1:4][::-1])\n",
    "                                class_ids_new.append(self.index_im)\n",
    "                            self.coords=coords_new\n",
    "                            self.class_ids=class_ids_new\n",
    "                            self.populate_draw_xyz()\n",
    "                            self.set_image()\n",
    "                    candid_spot[i_master]=(candid_dic,np.array(master[::-1]))\n",
    "                    candid_spotS[i_master]=(candid_dic,np.array(master[::-1]))\n",
    "                    pickle.dump(candid_spot,open(fl_cands,'wb'))\n",
    "                    pickle.dump(candid_spotS,open(fl_candsS,'wb'))\n",
    "            fid = open(fl_finished,'wb')\n",
    "            fid.close()\n",
    "    except:\n",
    "        print \"Failed\""
   ]
  }
 ],
 "metadata": {
  "kernelspec": {
   "display_name": "Python 2",
   "language": "python",
   "name": "python2"
  },
  "language_info": {
   "codemirror_mode": {
    "name": "ipython",
    "version": 2
   },
   "file_extension": ".py",
   "mimetype": "text/x-python",
   "name": "python",
   "nbconvert_exporter": "python",
   "pygments_lexer": "ipython2",
   "version": "2.7.11"
  }
 },
 "nbformat": 4,
 "nbformat_minor": 0
}
